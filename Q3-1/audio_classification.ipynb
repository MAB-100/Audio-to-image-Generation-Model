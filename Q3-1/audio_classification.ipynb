{
 "cells": [
  {
   "cell_type": "code",
   "execution_count": 1,
   "metadata": {
    "colab": {
     "base_uri": "https://localhost:8080/"
    },
    "id": "gxbHBsF-8Y_l",
    "outputId": "c4b017b4-92cb-4b07-a2c0-5ce8022810da"
   },
   "outputs": [
    {
     "name": "stderr",
     "output_type": "stream",
     "text": [
      "  WARNING: Failed to remove contents in a temporary directory 'C:\\Users\\abbas.bukhari\\Desktop\\COURSES\\Generative AI\\ASSIGNMENT 3\\Q3-1\\.venv\\Lib\\site-packages\\~umpy.libs'.\n",
      "  You can safely remove it manually.\n",
      "  WARNING: Failed to remove contents in a temporary directory 'C:\\Users\\abbas.bukhari\\Desktop\\COURSES\\Generative AI\\ASSIGNMENT 3\\Q3-1\\.venv\\Lib\\site-packages\\~umpy'.\n",
      "  You can safely remove it manually.\n"
     ]
    }
   ],
   "source": [
    "!pip install -q mediapipe"
   ]
  },
  {
   "cell_type": "markdown",
   "metadata": {
    "id": "a49D7h4TVmru"
   },
   "source": [
    "\n",
    "The next step you will take is downloading an off-the-shelf model for audio classification. In this case you will use the YAMNet model, which is designed to classify audio in 0.975 second segments, though you are also able to use others, including your own custom models, with MediaPipe Tasks."
   ]
  },
  {
   "cell_type": "code",
   "execution_count": 2,
   "metadata": {
    "id": "OMjuVQiDYJKF"
   },
   "outputs": [
    {
     "name": "stderr",
     "output_type": "stream",
     "text": [
      "'wget' is not recognized as an internal or external command,\n",
      "operable program or batch file.\n"
     ]
    }
   ],
   "source": [
    "!wget -O classifier.tflite -q https://storage.googleapis.com/mediapipe-models/audio_classifier/yamnet/float32/1/yamnet.tflite"
   ]
  },
  {
   "cell_type": "code",
   "execution_count": 25,
   "metadata": {
    "id": "w_rDb280-YhS"
   },
   "outputs": [
    {
     "name": "stdout",
     "output_type": "stream",
     "text": [
      "Requirement already satisfied: pydub in c:\\users\\abbas.bukhari\\desktop\\courses\\generative ai\\assignment 3\\q3-1\\.venv\\lib\\site-packages (0.25.1)\n",
      "Requirement already satisfied: ffmpeg in c:\\users\\abbas.bukhari\\desktop\\courses\\generative ai\\assignment 3\\q3-1\\.venv\\lib\\site-packages (1.4)\n"
     ]
    }
   ],
   "source": [
    "# Install necessary libraries\n",
    "!pip install pydub ffmpeg\n"
   ]
  },
  {
   "cell_type": "code",
   "execution_count": 26,
   "metadata": {},
   "outputs": [
    {
     "name": "stdout",
     "output_type": "stream",
     "text": [
      "Collecting ffmpeg-python\n",
      "  Downloading ffmpeg_python-0.2.0-py3-none-any.whl.metadata (1.7 kB)\n",
      "Collecting future (from ffmpeg-python)\n",
      "  Using cached future-1.0.0-py3-none-any.whl.metadata (4.0 kB)\n",
      "Downloading ffmpeg_python-0.2.0-py3-none-any.whl (25 kB)\n",
      "Using cached future-1.0.0-py3-none-any.whl (491 kB)\n",
      "Installing collected packages: future, ffmpeg-python\n",
      "Successfully installed ffmpeg-python-0.2.0 future-1.0.0\n"
     ]
    }
   ],
   "source": [
    "!pip install ffmpeg-python\n"
   ]
  },
  {
   "cell_type": "markdown",
   "metadata": {
    "id": "Iy4r2_ePylIa"
   },
   "source": [
    "## Performing Audio Classification\n",
    "Now that you have the necessary dependencies, it's time to start classifying some audio! While there are a variety of ways to retrieve audio clips, this example will download a `.wav` file of someone speaking."
   ]
  },
  {
   "cell_type": "markdown",
   "metadata": {
    "id": "XM4RazrUdTs6"
   },
   "source": [
    "Once everything looks good, you can start performing inference. You will start by creating the options that are necessary for associating your model with the Audio Classifier, as well as some other customizations.\n",
    "\n",
    "Next, you will create your Classifier and read some information from your downloaded audio file, as well as segment the clip into smaller (0.975 seconds, in this case) clips before classifying them.\n",
    "\n",
    "Finally, you will loop through the audio file in increments of 975 (the amount of seconds per clip in millesconds) to display the classification results."
   ]
  },
  {
   "cell_type": "code",
   "execution_count": 27,
   "metadata": {
    "colab": {
     "base_uri": "https://localhost:8080/"
    },
    "id": "Q2mi6haXuP8S",
    "outputId": "be899343-9845-4113-8579-cf17b37f6490"
   },
   "outputs": [],
   "source": [
    "\n",
    "# Import libraries\n",
    "from pydub import AudioSegment\n",
    "\n",
    "def convert_mp3_to_wav(input_mp3_path, output_wav_path):\n",
    "    \"\"\"\n",
    "    Converts an MP3 file to WAV format in Google Colab.\n",
    "\n",
    "    Parameters:\n",
    "        input_mp3_path (str): Path to the input MP3 file.\n",
    "        output_wav_path (str): Path to save the converted WAV file.\n",
    "\n",
    "    Returns:\n",
    "        None\n",
    "    \"\"\"\n",
    "    try:\n",
    "        # Load the MP3 file\n",
    "        print(f\"Converting MP3 to WAV: {input_mp3_path}\")\n",
    "        audio = AudioSegment.from_mp3(input_mp3_path)\n",
    "        # Export the audio as a WAV file\n",
    "        audio.export(output_wav_path, format=\"wav\")\n",
    "        print(f\"Conversion successful: {output_wav_path}\")\n",
    "    except Exception as e:\n",
    "        print(f\"An error occurred during conversion: {e}\")\n"
   ]
  },
  {
   "cell_type": "code",
   "execution_count": 28,
   "metadata": {
    "colab": {
     "base_uri": "https://localhost:8080/"
    },
    "id": "bgAgWw-0u8Lg",
    "outputId": "57bed0e2-1692-48f1-9541-d43ea7dab53e"
   },
   "outputs": [
    {
     "name": "stdout",
     "output_type": "stream",
     "text": [
      "Found MP3 files: ['mp3/applause-01-253125.mp3', 'mp3/applause-cheer-236786.mp3', 'mp3/crowd-shouting-hey-hey-hey-272059.mp3', 'mp3/dog-barking-265976.mp3', 'mp3/hungry-cat-254850.mp3', 'mp3/relaxing-guitar-loop-v5-245859.mp3', 'mp3/weird-talking-47375.mp3', 'mp3/woman-crying-softly-268484.mp3']\n"
     ]
    }
   ],
   "source": [
    "import os\n",
    "\n",
    "def get_all_mp3_files(directory):\n",
    "    \"\"\"\n",
    "    Get all file paths with .mp3 extension from a directory.\n",
    "\n",
    "    Parameters:\n",
    "        directory (str): Path to the directory to search.\n",
    "\n",
    "    Returns:\n",
    "        list: List of file paths with .mp3 extension.\n",
    "    \"\"\"\n",
    "    mp3_files = []\n",
    "    try:\n",
    "        # Walk through the directory\n",
    "        for root, dirs, files in os.walk(directory):\n",
    "            for file in files:\n",
    "                if file.endswith(\".mp3\"):\n",
    "                    mp3_files.append(os.path.join(root, file))\n",
    "        return mp3_files\n",
    "    except Exception as e:\n",
    "        print(f\"An error occurred: {e}\")\n",
    "        return []\n",
    "\n",
    "# Example usage\n",
    "mp3_files = get_all_mp3_files(\"mp3/\")\n",
    "print(\"Found MP3 files:\", mp3_files)\n"
   ]
  },
  {
   "cell_type": "code",
   "execution_count": 29,
   "metadata": {
    "colab": {
     "base_uri": "https://localhost:8080/"
    },
    "id": "Lsr9XNJruR-p",
    "outputId": "a98df547-1f11-4914-8bb6-7aed9d1d13a4"
   },
   "outputs": [
    {
     "name": "stdout",
     "output_type": "stream",
     "text": [
      "mp3/applause-01-253125.mp3\n",
      "Converting MP3 to WAV: mp3/applause-01-253125.mp3\n",
      "An error occurred during conversion: [WinError 2] The system cannot find the file specified\n",
      "mp3/applause-cheer-236786.mp3\n",
      "Converting MP3 to WAV: mp3/applause-cheer-236786.mp3\n",
      "An error occurred during conversion: [WinError 2] The system cannot find the file specified\n",
      "mp3/crowd-shouting-hey-hey-hey-272059.mp3\n",
      "Converting MP3 to WAV: mp3/crowd-shouting-hey-hey-hey-272059.mp3\n",
      "An error occurred during conversion: [WinError 2] The system cannot find the file specified\n",
      "mp3/dog-barking-265976.mp3\n",
      "Converting MP3 to WAV: mp3/dog-barking-265976.mp3\n",
      "An error occurred during conversion: [WinError 2] The system cannot find the file specified\n",
      "mp3/hungry-cat-254850.mp3\n",
      "Converting MP3 to WAV: mp3/hungry-cat-254850.mp3\n",
      "An error occurred during conversion: [WinError 2] The system cannot find the file specified\n",
      "mp3/relaxing-guitar-loop-v5-245859.mp3\n",
      "Converting MP3 to WAV: mp3/relaxing-guitar-loop-v5-245859.mp3\n",
      "An error occurred during conversion: [WinError 2] The system cannot find the file specified\n",
      "mp3/weird-talking-47375.mp3\n",
      "Converting MP3 to WAV: mp3/weird-talking-47375.mp3\n",
      "An error occurred during conversion: [WinError 2] The system cannot find the file specified\n",
      "mp3/woman-crying-softly-268484.mp3\n",
      "Converting MP3 to WAV: mp3/woman-crying-softly-268484.mp3\n",
      "An error occurred during conversion: [WinError 2] The system cannot find the file specified\n"
     ]
    }
   ],
   "source": [
    "output_wav_path = \"output/\"  # Name for the converted WAV file\n",
    "# input_mp3_paths = mp3_files\n",
    "\n",
    "for i, path in enumerate(mp3_files):\n",
    "  print(path)\n",
    "  output = output_wav_path + str(i) + \".wav\"\n",
    "  convert_mp3_to_wav(path,output)\n",
    "\n",
    "\n"
   ]
  },
  {
   "cell_type": "code",
   "execution_count": 30,
   "metadata": {
    "id": "BbKhjvCUwYTs"
   },
   "outputs": [],
   "source": [
    "audio_file_name = \"output/output6.wav\""
   ]
  },
  {
   "cell_type": "code",
   "execution_count": 31,
   "metadata": {
    "colab": {
     "base_uri": "https://localhost:8080/",
     "height": 453
    },
    "id": "WPO6rvNJTkPd",
    "outputId": "39e344fa-e778-4f41-e2c0-b372ac3ad496"
   },
   "outputs": [
    {
     "ename": "ImportError",
     "evalue": "DLL load failed while importing _framework_bindings: A dynamic link library (DLL) initialization routine failed.",
     "output_type": "error",
     "traceback": [
      "\u001b[1;31m---------------------------------------------------------------------------\u001b[0m",
      "\u001b[1;31mImportError\u001b[0m                               Traceback (most recent call last)",
      "Cell \u001b[1;32mIn[31], line 3\u001b[0m\n\u001b[0;32m      1\u001b[0m \u001b[38;5;28;01mimport\u001b[39;00m \u001b[38;5;21;01mnumpy\u001b[39;00m \u001b[38;5;28;01mas\u001b[39;00m \u001b[38;5;21;01mnp\u001b[39;00m\n\u001b[1;32m----> 3\u001b[0m \u001b[38;5;28;01mfrom\u001b[39;00m \u001b[38;5;21;01mmediapipe\u001b[39;00m\u001b[38;5;21;01m.\u001b[39;00m\u001b[38;5;21;01mtasks\u001b[39;00m \u001b[38;5;28;01mimport\u001b[39;00m python\n\u001b[0;32m      4\u001b[0m \u001b[38;5;28;01mfrom\u001b[39;00m \u001b[38;5;21;01mmediapipe\u001b[39;00m\u001b[38;5;21;01m.\u001b[39;00m\u001b[38;5;21;01mtasks\u001b[39;00m\u001b[38;5;21;01m.\u001b[39;00m\u001b[38;5;21;01mpython\u001b[39;00m\u001b[38;5;21;01m.\u001b[39;00m\u001b[38;5;21;01mcomponents\u001b[39;00m \u001b[38;5;28;01mimport\u001b[39;00m containers\n\u001b[0;32m      5\u001b[0m \u001b[38;5;28;01mfrom\u001b[39;00m \u001b[38;5;21;01mmediapipe\u001b[39;00m\u001b[38;5;21;01m.\u001b[39;00m\u001b[38;5;21;01mtasks\u001b[39;00m\u001b[38;5;21;01m.\u001b[39;00m\u001b[38;5;21;01mpython\u001b[39;00m \u001b[38;5;28;01mimport\u001b[39;00m audio\n",
      "File \u001b[1;32mc:\\Users\\abbas.bukhari\\Desktop\\COURSES\\Generative AI\\ASSIGNMENT 3\\Q3-1\\.venv\\lib\\site-packages\\mediapipe\\__init__.py:15\u001b[0m\n\u001b[0;32m      1\u001b[0m \u001b[38;5;66;03m# Copyright 2019 - 2022 The MediaPipe Authors.\u001b[39;00m\n\u001b[0;32m      2\u001b[0m \u001b[38;5;66;03m#\u001b[39;00m\n\u001b[0;32m      3\u001b[0m \u001b[38;5;66;03m# Licensed under the Apache License, Version 2.0 (the \"License\");\u001b[39;00m\n\u001b[1;32m   (...)\u001b[0m\n\u001b[0;32m     12\u001b[0m \u001b[38;5;66;03m# See the License for the specific language governing permissions and\u001b[39;00m\n\u001b[0;32m     13\u001b[0m \u001b[38;5;66;03m# limitations under the License.\u001b[39;00m\n\u001b[1;32m---> 15\u001b[0m \u001b[38;5;28;01mfrom\u001b[39;00m \u001b[38;5;21;01mmediapipe\u001b[39;00m\u001b[38;5;21;01m.\u001b[39;00m\u001b[38;5;21;01mpython\u001b[39;00m \u001b[38;5;28;01mimport\u001b[39;00m \u001b[38;5;241m*\u001b[39m\n\u001b[0;32m     16\u001b[0m \u001b[38;5;28;01mimport\u001b[39;00m \u001b[38;5;21;01mmediapipe\u001b[39;00m\u001b[38;5;21;01m.\u001b[39;00m\u001b[38;5;21;01mpython\u001b[39;00m\u001b[38;5;21;01m.\u001b[39;00m\u001b[38;5;21;01msolutions\u001b[39;00m \u001b[38;5;28;01mas\u001b[39;00m \u001b[38;5;21;01msolutions\u001b[39;00m \n\u001b[0;32m     17\u001b[0m \u001b[38;5;28;01mimport\u001b[39;00m \u001b[38;5;21;01mmediapipe\u001b[39;00m\u001b[38;5;21;01m.\u001b[39;00m\u001b[38;5;21;01mtasks\u001b[39;00m\u001b[38;5;21;01m.\u001b[39;00m\u001b[38;5;21;01mpython\u001b[39;00m \u001b[38;5;28;01mas\u001b[39;00m \u001b[38;5;21;01mtasks\u001b[39;00m\n",
      "File \u001b[1;32mc:\\Users\\abbas.bukhari\\Desktop\\COURSES\\Generative AI\\ASSIGNMENT 3\\Q3-1\\.venv\\lib\\site-packages\\mediapipe\\python\\__init__.py:17\u001b[0m\n\u001b[0;32m      1\u001b[0m \u001b[38;5;66;03m# Copyright 2020-2021 The MediaPipe Authors.\u001b[39;00m\n\u001b[0;32m      2\u001b[0m \u001b[38;5;66;03m#\u001b[39;00m\n\u001b[0;32m      3\u001b[0m \u001b[38;5;66;03m# Licensed under the Apache License, Version 2.0 (the \"License\");\u001b[39;00m\n\u001b[1;32m   (...)\u001b[0m\n\u001b[0;32m     12\u001b[0m \u001b[38;5;66;03m# See the License for the specific language governing permissions and\u001b[39;00m\n\u001b[0;32m     13\u001b[0m \u001b[38;5;66;03m# limitations under the License.\u001b[39;00m\n\u001b[0;32m     15\u001b[0m \u001b[38;5;124;03m\"\"\"MediaPipe Python API.\"\"\"\u001b[39;00m\n\u001b[1;32m---> 17\u001b[0m \u001b[38;5;28;01mfrom\u001b[39;00m \u001b[38;5;21;01mmediapipe\u001b[39;00m\u001b[38;5;21;01m.\u001b[39;00m\u001b[38;5;21;01mpython\u001b[39;00m\u001b[38;5;21;01m.\u001b[39;00m\u001b[38;5;21;01m_framework_bindings\u001b[39;00m \u001b[38;5;28;01mimport\u001b[39;00m model_ckpt_util\n\u001b[0;32m     18\u001b[0m \u001b[38;5;28;01mfrom\u001b[39;00m \u001b[38;5;21;01mmediapipe\u001b[39;00m\u001b[38;5;21;01m.\u001b[39;00m\u001b[38;5;21;01mpython\u001b[39;00m\u001b[38;5;21;01m.\u001b[39;00m\u001b[38;5;21;01m_framework_bindings\u001b[39;00m \u001b[38;5;28;01mimport\u001b[39;00m resource_util\n\u001b[0;32m     19\u001b[0m \u001b[38;5;28;01mfrom\u001b[39;00m \u001b[38;5;21;01mmediapipe\u001b[39;00m\u001b[38;5;21;01m.\u001b[39;00m\u001b[38;5;21;01mpython\u001b[39;00m\u001b[38;5;21;01m.\u001b[39;00m\u001b[38;5;21;01m_framework_bindings\u001b[39;00m\u001b[38;5;21;01m.\u001b[39;00m\u001b[38;5;21;01mcalculator_graph\u001b[39;00m \u001b[38;5;28;01mimport\u001b[39;00m CalculatorGraph\n",
      "\u001b[1;31mImportError\u001b[0m: DLL load failed while importing _framework_bindings: A dynamic link library (DLL) initialization routine failed."
     ]
    }
   ],
   "source": [
    "import numpy as np\n",
    "\n",
    "from mediapipe.tasks import python\n",
    "from mediapipe.tasks.python.components import containers\n",
    "from mediapipe.tasks.python import audio\n",
    "from scipy.io import wavfile\n",
    "\n",
    "# Customize and associate model for Classifier\n",
    "base_options = python.BaseOptions(model_asset_path='classifier.tflite')\n",
    "options = audio.AudioClassifierOptions(\n",
    "    base_options=base_options, max_results=4)\n",
    "\n",
    "# Create classifier, segment audio clips, and classify\n",
    "with audio.AudioClassifier.create_from_options(options) as classifier:\n",
    "  sample_rate, wav_data = wavfile.read(audio_file_name)\n",
    "  audio_clip = containers.AudioData.create_from_array(\n",
    "      wav_data.astype(float) / np.iinfo(np.int16).max, sample_rate)\n",
    "  classification_result_list = classifier.classify(audio_clip)\n",
    "\n",
    "  # assert(len(classification_result_list) == 5)\n",
    "\n",
    "# Iterate through clips to display classifications\n",
    "  for idx, timestamp in enumerate(range(242)):\n",
    "    classification_result = classification_result_list[idx]\n",
    "    top_category = classification_result.classifications[0].categories[0]\n",
    "    print(f'Timestamp {timestamp}: {top_category.category_name} ({top_category.score:.2f})')"
   ]
  },
  {
   "cell_type": "code",
   "execution_count": null,
   "metadata": {},
   "outputs": [],
   "source": []
  }
 ],
 "metadata": {
  "accelerator": "GPU",
  "colab": {
   "gpuType": "T4",
   "provenance": []
  },
  "kernelspec": {
   "display_name": ".venv",
   "language": "python",
   "name": "python3"
  },
  "language_info": {
   "codemirror_mode": {
    "name": "ipython",
    "version": 3
   },
   "file_extension": ".py",
   "mimetype": "text/x-python",
   "name": "python",
   "nbconvert_exporter": "python",
   "pygments_lexer": "ipython3",
   "version": "3.10.8"
  }
 },
 "nbformat": 4,
 "nbformat_minor": 0
}
