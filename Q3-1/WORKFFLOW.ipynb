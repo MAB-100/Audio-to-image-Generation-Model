{
 "cells": [
  {
   "cell_type": "code",
   "execution_count": 7,
   "metadata": {},
   "outputs": [],
   "source": [
    "# Example usage\n",
    "input_data = \"\"\"Timestamp 0: Dog (0.26)\n",
    "Timestamp 1: Domestic animals, pets (0.20)\n",
    "Timestamp 2: Domestic animals, pets (0.26)\n",
    "Timestamp 3: Animal (0.59)\n",
    "Timestamp 4: Bark (0.26)\n",
    "Timestamp 5: Domestic animals, pets (0.33)\n",
    "Timestamp 6: Domestic animals, pets (0.33)\n",
    "Timestamp 7: Domestic animals, pets (0.26)\n",
    "Timestamp 8: Animal (0.33)\n",
    "Timestamp 9: Speech (0.41)\n",
    "Timestamp 10: Domestic animals, pets (0.59)\n",
    "Timestamp 11: Domestic animals, pets (0.59)\n",
    "Timestamp 12: Domestic animals, pets (0.41)\n",
    "Timestamp 13: Silence (0.08)\"\"\""
   ]
  },
  {
   "cell_type": "code",
   "execution_count": 10,
   "metadata": {},
   "outputs": [],
   "source": [
    "from collections import Counter\n",
    "\n",
    "def get_top_categories(input_string):\n",
    "    \"\"\"\n",
    "    Processes the input string of timestamps, extracts categories,\n",
    "    and returns the top 2 most frequent categories as a comma-separated string.\n",
    "\n",
    "    Args:\n",
    "        input_string (str): Multiline string containing timestamp data.\n",
    "\n",
    "    Returns:\n",
    "        str: A comma-separated string of the top 2 categories.\n",
    "    \"\"\"\n",
    "    # Split the input into lines\n",
    "    lines = input_string.strip().split(\"\\n\")\n",
    "    \n",
    "    # Extract categories\n",
    "    categories = []\n",
    "    for line in lines:\n",
    "        try:\n",
    "            # Extract the category part using string slicing\n",
    "            category_start = line.find(\":\") + 2\n",
    "            category_end = line.rfind(\"(\") - 1\n",
    "            category = line[category_start:category_end].strip()\n",
    "            categories.append(category)\n",
    "        except Exception as e:\n",
    "            print(f\"Error processing line: {line}. Error: {e}\")\n",
    "    \n",
    "    # Count occurrences of each category\n",
    "    category_counts = Counter(categories)\n",
    "    \n",
    "    # Get the top 2 most frequent categories\n",
    "    top_categories = [category for category, count in category_counts.most_common(2)]\n",
    "    \n",
    "    # Return categories as a comma-separated string\n",
    "    return \", \".join(top_categories)\n",
    "\n",
    "\n"
   ]
  },
  {
   "cell_type": "code",
   "execution_count": 11,
   "metadata": {},
   "outputs": [
    {
     "name": "stdout",
     "output_type": "stream",
     "text": [
      "Top 2 Categories: Domestic animals, pets, Animal\n"
     ]
    }
   ],
   "source": [
    "top_categories = get_top_categories(input_data)\n",
    "print(\"Top 2 Categories:\", top_categories)\n"
   ]
  }
 ],
 "metadata": {
  "kernelspec": {
   "display_name": ".venv",
   "language": "python",
   "name": "python3"
  },
  "language_info": {
   "codemirror_mode": {
    "name": "ipython",
    "version": 3
   },
   "file_extension": ".py",
   "mimetype": "text/x-python",
   "name": "python",
   "nbconvert_exporter": "python",
   "pygments_lexer": "ipython3",
   "version": "3.10.8"
  }
 },
 "nbformat": 4,
 "nbformat_minor": 2
}
